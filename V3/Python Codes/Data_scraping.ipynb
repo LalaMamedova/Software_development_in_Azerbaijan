{
 "cells": [
  {
   "cell_type": "code",
   "execution_count": 1,
   "metadata": {},
   "outputs": [],
   "source": [
    "from bs4 import BeautifulSoup\n",
    "import requests\n",
    "import pandas as pd"
   ]
  },
  {
   "cell_type": "code",
   "execution_count": 2,
   "metadata": {},
   "outputs": [],
   "source": [
    "all_vacancy_list = []\n",
    "vacancy_dict = {}\n",
    "i = 1"
   ]
  },
  {
   "cell_type": "code",
   "execution_count": 3,
   "metadata": {},
   "outputs": [
    {
     "data": {
      "text/plain": [
       "1796"
      ]
     },
     "execution_count": 3,
     "metadata": {},
     "output_type": "execute_result"
    }
   ],
   "source": [
    "while (True):\n",
    "    webLink = f\"https://busy.az/professions/software-developer?page={i}\"\n",
    "    response = requests.get(webLink)\n",
    "\n",
    "    if(response.status_code == 200):\n",
    "        soup = BeautifulSoup(response.content, 'lxml',from_encoding='utf-8')\n",
    "        all_vacancy_cards = soup.find_all('a', class_=\"job-listing with-apply-button\")\n",
    "\n",
    "        for card in all_vacancy_cards:\n",
    "            link_to_vacancy_detail = card.get(\"href\")\n",
    "            vacancy_name = card.find(\"h3\", class_=\"job-listing-title\").get_text()\n",
    "            company_name = card.find(\"li\").get_text().strip()\n",
    "\n",
    "            vacancy_dict = {\n",
    "                    \"Name\": vacancy_name,\n",
    "                    \"Url to Vacancy\": link_to_vacancy_detail,\n",
    "                    \"Company\": company_name\n",
    "            }\n",
    "            \n",
    "            response_to_vacancy_detail = requests.get(link_to_vacancy_detail)\n",
    "            \n",
    "            if(response_to_vacancy_detail.status_code==200):\n",
    "                vacancy_details = BeautifulSoup(response_to_vacancy_detail.content, 'lxml',from_encoding='utf-8').find(\"div\", class_=\"job-overview-inner\")\n",
    "\n",
    "                if vacancy_details.find(\"span\", string=\"Yer\"):\n",
    "                    location = vacancy_details.find(\"span\", string=\"Yer\").find_next_sibling(\"h5\").text.strip()\n",
    "                    vacancy_dict[\"Location\"] = location\n",
    "                else:\n",
    "                    vacancy_dict[\"Location\"] = \"\"\n",
    "\n",
    "                if vacancy_details.find(\"span\", string=\"Məşğulluq növü\"):\n",
    "                    type_of_employment = vacancy_details.find(\"span\", string=\"Məşğulluq növü\").find_next_sibling(\"h5\").text.strip()\n",
    "                    vacancy_dict[\"Type of Employment\"] = type_of_employment\n",
    "                else:\n",
    "                    vacancy_dict[\"Type of Employment\"] = \"\"\n",
    "\n",
    "                if vacancy_details.find(\"span\", string=\"Yaş\"):\n",
    "                    age_category = vacancy_details.find(\"span\", string=\"Yaş\").find_next_sibling(\"h5\").text.strip()  \n",
    "                    vacancy_dict[\"Age category\"] = age_category\n",
    "                else:\n",
    "                    vacancy_dict[\"Age category\"] = \"\"\n",
    "\n",
    "                if vacancy_details.find(\"span\", string=\"Təhsil\"):\n",
    "                    education_degree = vacancy_details.find(\"span\", string=\"Təhsil\").find_next_sibling(\"h5\").text.strip()\n",
    "                    vacancy_dict[\"Education degree\"] = education_degree\n",
    "                else:\n",
    "                    vacancy_dict[\"Education degree\"] = \"\"\n",
    "\n",
    "                if vacancy_details.find(\"span\", string=\"Maaş\"):\n",
    "                    salary = vacancy_details.find(\"span\", string=\"Maaş\").find_next_sibling(\"h5\").text.strip()\n",
    "                    vacancy_dict[\"Salary\"] = salary\n",
    "                else:\n",
    "                    vacancy_dict[\"Salary\"] = \"\"\n",
    "\n",
    "                if vacancy_details.find(\"span\", string=\"Elanın qoyulma tarixi\"):\n",
    "                    posting_date = vacancy_details.find(\"span\", string=\"Elanın qoyulma tarixi\").find_next_sibling(\"h5\").text.strip()\n",
    "                    vacancy_dict[\"Posting Date\"] = posting_date\n",
    "                else:\n",
    "                    vacancy_dict[\"Posting Date\"] = \"\"\n",
    "\n",
    "                if vacancy_details.find(\"span\", string=\"Son müraciət tarixi\"):\n",
    "                    deadline_date = vacancy_details.find(\"span\", string=\"Son müraciət tarixi\").find_next_sibling(\"h5\").text.strip()\n",
    "                    vacancy_dict[\"Deadline Date\"] = deadline_date\n",
    "                else:\n",
    "                    vacancy_dict[\"Deadline Date\"] = \"\"\n",
    "\n",
    "                if vacancy_details.findAll(\"div\", class_=\"task-tags\"):\n",
    "                    tags_container = vacancy_details.findAll(\"div\", class_=\"task-tags\")\n",
    "\n",
    "                    if len(tags_container) > 0:\n",
    "                        all_tags = [tag.text.strip() for tag in tags_container[0].find_all(\"span\")]\n",
    "                        vacancy_dict[\"Skills\"] = all_tags\n",
    "                    else:\n",
    "                        vacancy_dict[\"Skills\"] = \"\"\n",
    "\n",
    "                all_vacancy_list.append(vacancy_dict)\n",
    "        i+=1\n",
    "    else:\n",
    "        break\n",
    "\n",
    "len(all_vacancy_list)"
   ]
  },
  {
   "cell_type": "code",
   "execution_count": 4,
   "metadata": {},
   "outputs": [],
   "source": [
    "df = pd.DataFrame.from_dict(all_vacancy_list)\n",
    "df.to_excel('Software Vacancy.xlsx')"
   ]
  },
  {
   "cell_type": "code",
   "execution_count": null,
   "metadata": {},
   "outputs": [],
   "source": []
  }
 ],
 "metadata": {
  "kernelspec": {
   "display_name": ".venv",
   "language": "python",
   "name": "python3"
  },
  "language_info": {
   "codemirror_mode": {
    "name": "ipython",
    "version": 3
   },
   "file_extension": ".py",
   "mimetype": "text/x-python",
   "name": "python",
   "nbconvert_exporter": "python",
   "pygments_lexer": "ipython3",
   "version": "3.12.2"
  }
 },
 "nbformat": 4,
 "nbformat_minor": 2
}
